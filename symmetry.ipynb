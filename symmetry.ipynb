{
 "cells": [
  {
   "cell_type": "markdown",
   "metadata": {},
   "source": [
    "# Code "
   ]
  },
  {
   "cell_type": "code",
   "execution_count": 12,
   "metadata": {},
   "outputs": [],
   "source": [
    "from pymatgen.ext.matproj import MPRester\n",
    "import numpy as np\n",
    "from pymatgen.core.operations import SymmOp\n",
    "with MPRester(\"9pWDrcCtfsNndSHF\") as m:\n",
    "    structure = m.get_structure_by_material_id(\"mp-13694\")\n",
    "    \n",
    "#coordonnées des atomes obtenues sur Jmol Crystal Symmetry Explorer\n",
    "    point1 = np.array([0.67,0.33,0.33]) #Cu1 #6\n",
    "    point2 = np.array([0.33,0.67,0.77]) #O2 #11\n",
    "    point3 = np.array([1.0,0.0,0.5]) #Pr0 #19\n",
    "    \n",
    "#matrices de transformations\n",
    "    miroir = SymmOp.from_xyz_string('-y,-x,z').rotation_matrix\n",
    "    rotation = SymmOp.from_xyz_string('y,x,-z').rotation_matrix\n",
    "    rotoinv = SymmOp.from_xyz_string('y-1/3,-x+y+1/3,-z+1/3').rotation_matrix\n",
    "    \n",
    "#applications des symétries et optention des nouvelles coordonnées  \n",
    "    sym1 = SymmOp.from_xyz_string('-y,-x,z').operate(point1) #symetrie 8 mirror plane\n",
    "    sym2 = SymmOp.from_xyz_string('y,x,-z').operate(point2) #rotation num 7\n",
    "    sym3 = SymmOp.from_xyz_string('y-1/3,-x+y+1/3,-z+1/3').operate(point3) #roto-inversion num 16\n",
    "  "
   ]
  },
  {
   "cell_type": "markdown",
   "metadata": {},
   "source": [
    "# Résultats\n",
    "## Première symétrie sur l'atome 1"
   ]
  },
  {
   "cell_type": "markdown",
   "metadata": {},
   "source": [
    "La première symétrie est appliquée sur un atome de Cu. Cette symétrie est un plan miroir passant par la normale [0,0,0]. (ou un truc ainsi jsp si c'est utile)\n"
   ]
  },
  {
   "cell_type": "code",
   "execution_count": 7,
   "metadata": {},
   "outputs": [
    {
     "name": "stdout",
     "output_type": "stream",
     "text": [
      "Type atome: Cu \n",
      "\n",
      "Matrice transformation selon un plan miroir: \n",
      " [[ 0. -1.  0.]\n",
      " [-1.  0.  0.]\n",
      " [ 0.  0.  1.]] \n",
      "\n",
      "Coordonnées de atome 1 au départ: [0.67 0.33 0.33] \n",
      "\n",
      "Coordonnées de atome 1 après la symétrie: [-0.33 -0.67  0.33] \n",
      "\n"
     ]
    }
   ],
   "source": [
    "print('Type atome: Cu','\\n')\n",
    "print('Matrice transformation selon un plan miroir:','\\n',miroir, '\\n')\n",
    "print('Coordonnées de atome 1 au départ:', point1, '\\n')\n",
    "print('Coordonnées de atome 1 après la symétrie:',sym1,'\\n' )"
   ]
  },
  {
   "cell_type": "markdown",
   "metadata": {},
   "source": [
    "![Capturedecrant1.co](Capture%20d’écran%202020-03-15%20à%2021.43.02.png)\n",
    "![Capturedecrant2.co](Capture%20d’écran%202020-03-15%20à%2021.45.13.png)"
   ]
  },
  {
   "cell_type": "markdown",
   "metadata": {},
   "source": [
    "## Deuxième symétrie sur l'atome 2"
   ]
  },
  {
   "cell_type": "markdown",
   "metadata": {},
   "source": [
    "La deuxième symétrie est appliquée sur un atome de O. Cette symétrie est une rotation (C2)"
   ]
  },
  {
   "cell_type": "code",
   "execution_count": 6,
   "metadata": {},
   "outputs": [
    {
     "name": "stdout",
     "output_type": "stream",
     "text": [
      "Type atome: O \n",
      "\n",
      "Matrice transformation selon une rotation: \n",
      " [[ 0.  1.  0.]\n",
      " [ 1.  0.  0.]\n",
      " [ 0.  0. -1.]] \n",
      "\n",
      "Coordonnées de atome 2 au départ: [0.33 0.67 0.77] \n",
      "\n",
      "Coordonnées de atome 2 après la symétrie: [ 0.67  0.33 -0.77] \n",
      "\n"
     ]
    }
   ],
   "source": [
    "print('Type atome: O','\\n')\n",
    "print('Matrice transformation selon une rotation:','\\n',rotation, '\\n')\n",
    "print('Coordonnées de atome 2 au départ:', point2, '\\n')\n",
    "print('Coordonnées de atome 2 après la symétrie:',sym2,'\\n' )"
   ]
  },
  {
   "cell_type": "markdown",
   "metadata": {},
   "source": [
    "![Capturedecrant3.co](Capture%20d’écran%202020-03-15%20à%2021.48.14.png)\n",
    "![Capturedecrant4.co](Capture%20d’écran%202020-03-15%20à%2021.48.23.png)\n",
    "![Capturedecrant5.co](Capture%20d’écran%202020-03-15%20à%2021.48.37.png)"
   ]
  },
  {
   "cell_type": "markdown",
   "metadata": {},
   "source": [
    "## Troisème symétrie sur l'atome 3"
   ]
  },
  {
   "cell_type": "markdown",
   "metadata": {},
   "source": [
    "La troisème symétrie est appliquée sur un atome Pr. Cette symétrie est une roto-inversion (3 barre)"
   ]
  },
  {
   "cell_type": "code",
   "execution_count": 9,
   "metadata": {},
   "outputs": [
    {
     "name": "stdout",
     "output_type": "stream",
     "text": [
      "Type atome: Pr \n",
      "\n",
      "Matrice transformation selon une roto-inversion: \n",
      " [[ 0.  1.  0.]\n",
      " [-1.  1.  0.]\n",
      " [ 0.  0. -1.]] \n",
      "\n",
      "Coordonnées de atome 3 au départ: [1.  0.  0.5] \n",
      "\n",
      "Coordonnées de atome 3 après la symétrie: [-0.33333333 -0.66666667 -0.16666667] \n",
      "\n"
     ]
    }
   ],
   "source": [
    "print('Type atome: Pr','\\n')\n",
    "print('Matrice transformation selon une roto-inversion:','\\n',rotoinv, '\\n')\n",
    "print('Coordonnées de atome 3 au départ:', point3, '\\n')\n",
    "print('Coordonnées de atome 3 après la symétrie:',sym3,'\\n' )"
   ]
  },
  {
   "cell_type": "markdown",
   "metadata": {},
   "source": [
    "![Capturedecrant6.co](Capture%20d’écran%202020-03-15%20à%2021.42.32.png)"
   ]
  },
  {
   "cell_type": "markdown",
   "metadata": {},
   "source": [
    "![Capturedecrant7.co](Capture%20d’écran%202020-03-15%20à%2021.41.57.png)"
   ]
  },
  {
   "cell_type": "code",
   "execution_count": null,
   "metadata": {},
   "outputs": [],
   "source": []
  }
 ],
 "metadata": {
  "kernelspec": {
   "display_name": "Python 3",
   "language": "python",
   "name": "python3"
  },
  "language_info": {
   "codemirror_mode": {
    "name": "ipython",
    "version": 3
   },
   "file_extension": ".py",
   "mimetype": "text/x-python",
   "name": "python",
   "nbconvert_exporter": "python",
   "pygments_lexer": "ipython3",
   "version": "3.6.8"
  }
 },
 "nbformat": 4,
 "nbformat_minor": 2
}
