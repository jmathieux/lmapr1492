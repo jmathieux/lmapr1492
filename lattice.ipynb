{
 "cells": [
  {
   "cell_type": "code",
   "execution_count": 30,
   "metadata": {},
   "outputs": [
    {
     "name": "stdout",
     "output_type": "stream",
     "text": [
      "Full Formula (Pr1 Cu1 O2)\n",
      "Reduced Formula: PrCuO2\n",
      "abc   :   6.131324   6.131324   6.131324\n",
      "angles:  36.099693  36.099693  36.099693\n",
      "Sites (4)\n",
      "  #  SP           a         b         c    magmom\n",
      "---  ----  --------  --------  --------  --------\n",
      "  0  O     0.894057  0.894057  0.894057         0\n",
      "  1  O     0.105943  0.105943  0.105943         0\n",
      "  2  Cu    0         0         0                0\n",
      "  3  Pr    0.5       0.5       0.5              0 \n",
      "\n",
      "vecteurs réciproques :\n",
      "1.739277 -0.868878 0.000000\n",
      "0.000000 1.944231 0.000000\n",
      "-1.405324 -0.868878 1.024768 \n",
      "\n",
      "Type de maille : rhombohedral \n",
      "\n",
      "système cristallin : trigonal \n",
      "\n",
      "groupe ponctuel : -3m \n",
      "\n"
     ]
    }
   ],
   "source": [
    "from pymatgen.ext.matproj import MPRester\n",
    "from pymatgen.symmetry.analyzer import SpacegroupAnalyzer\n",
    "from pymatgen import Lattice \n",
    "with MPRester(\"9pWDrcCtfsNndSHF\") as m:\n",
    "    structure = m.get_structure_by_material_id(\"mp-13694\")\n",
    "    \n",
    "    st = SpacegroupAnalyzer(structure)\n",
    "    lt = st.get_lattice_type()\n",
    "    cs = st.get_crystal_system() \n",
    "    gp = st.get_point_group_symbol()\n",
    "\n",
    "    romb = Lattice.rhombohedral(6.131324,36.099693)\n",
    "    reciproque = romb.reciprocal_lattice\n",
    "   \n",
    "    \n",
    "    print(structure,'\\n')\n",
    "    print('vecteurs réciproques :')\n",
    "    print(reciproque,'\\n')\n",
    "    print('Type de maille :',lt,'\\n')\n",
    "    print('système cristallin :',cs,'\\n')\n",
    "    print('groupe ponctuel :',gp,'\\n')\n",
    "    \n",
    "    \n",
    "    \n",
    "    "
   ]
  },
  {
   "cell_type": "code",
   "execution_count": null,
   "metadata": {},
   "outputs": [],
   "source": []
  }
 ],
 "metadata": {
  "kernelspec": {
   "display_name": "Python 3",
   "language": "python",
   "name": "python3"
  },
  "language_info": {
   "codemirror_mode": {
    "name": "ipython",
    "version": 3
   },
   "file_extension": ".py",
   "mimetype": "text/x-python",
   "name": "python",
   "nbconvert_exporter": "python",
   "pygments_lexer": "ipython3",
   "version": "3.6.8"
  }
 },
 "nbformat": 4,
 "nbformat_minor": 2
}
