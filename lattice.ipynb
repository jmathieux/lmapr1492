{
 "cells": [
  {
   "cell_type": "markdown",
   "metadata": {},
   "source": [
    "## Code :##"
   ]
  },
  {
   "cell_type": "code",
   "execution_count": 6,
   "metadata": {},
   "outputs": [],
   "source": [
    "from pymatgen.ext.matproj import MPRester\n",
    "from pymatgen.symmetry.analyzer import SpacegroupAnalyzer\n",
    "from pymatgen import Lattice \n",
    "with MPRester(\"9pWDrcCtfsNndSHF\") as m:\n",
    "    structure = m.get_structure_by_material_id(\"mp-13694\")\n",
    "    \n",
    "    \n",
    "    vect = structure.lattice\n",
    "    st = SpacegroupAnalyzer(structure)\n",
    "    lt = st.get_lattice_type()\n",
    "    cs = st.get_crystal_system() \n",
    "    gp = st.get_point_group_symbol()\n",
    "\n",
    "    romb = Lattice.rhombohedral(6.131324,36.099693)\n",
    "    reciproque = romb.reciprocal_lattice\n",
    "    "
   ]
  },
  {
   "cell_type": "markdown",
   "metadata": {},
   "source": [
    "## Resultats : ##"
   ]
  },
  {
   "cell_type": "code",
   "execution_count": 9,
   "metadata": {},
   "outputs": [
    {
     "name": "stdout",
     "output_type": "stream",
     "text": [
      "Full Formula (Pr1 Cu1 O2)\n",
      "Reduced Formula: PrCuO2\n",
      "abc   :   6.131324   6.131324   6.131324\n",
      "angles:  36.099693  36.099693  36.099693\n",
      "Sites (4)\n",
      "  #  SP           a         b         c    magmom\n",
      "---  ----  --------  --------  --------  --------\n",
      "  0  O     0.894057  0.894057  0.894057         0\n",
      "  1  O     0.105943  0.105943  0.105943         0\n",
      "  2  Cu    0         0         0                0\n",
      "  3  Pr    0.5       0.5       0.5              0 \n",
      "\n",
      "Vecteurs de base :\n",
      "3.601183 -0.008664 4.962311\n",
      "1.604580 3.223960 4.962311\n",
      "-0.014027 -0.008664 6.131301 \n",
      "\n",
      "Vecteurs réciproques :\n",
      "1.739277 -0.868878 0.000000\n",
      "0.000000 1.944231 0.000000\n",
      "-1.405324 -0.868878 1.024768 \n",
      "\n",
      "Type de maille : rhombohedral \n",
      "\n",
      "Système cristallin : trigonal \n",
      "\n",
      "Groupe ponctuel : -3m \n",
      "\n"
     ]
    }
   ],
   "source": [
    "    print(structure, '\\n')\n",
    "    print('Vecteurs de base :')\n",
    "    print(vect,'\\n')\n",
    "    print('Vecteurs réciproques :')\n",
    "    print(reciproque,'\\n')\n",
    "    print('Type de maille :',lt,'\\n')\n",
    "    print('Système cristallin :',cs,'\\n')\n",
    "    print('Groupe ponctuel :',gp,'\\n')\n",
    "    "
   ]
  },
  {
   "cell_type": "code",
   "execution_count": null,
   "metadata": {},
   "outputs": [],
   "source": []
  }
 ],
 "metadata": {
  "kernelspec": {
   "display_name": "Python 3",
   "language": "python",
   "name": "python3"
  },
  "language_info": {
   "codemirror_mode": {
    "name": "ipython",
    "version": 3
   },
   "file_extension": ".py",
   "mimetype": "text/x-python",
   "name": "python",
   "nbconvert_exporter": "python",
   "pygments_lexer": "ipython3",
   "version": "3.6.8"
  }
 },
 "nbformat": 4,
 "nbformat_minor": 2
}
